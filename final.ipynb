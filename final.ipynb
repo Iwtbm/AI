{
 "cells": [
  {
   "cell_type": "code",
   "execution_count": 1,
   "metadata": {},
   "outputs": [],
   "source": [
    "import numpy as np"
   ]
  },
  {
   "cell_type": "markdown",
   "metadata": {},
   "source": [
    "Question 3"
   ]
  },
  {
   "cell_type": "code",
   "execution_count": 2,
   "metadata": {},
   "outputs": [
    {
     "name": "stdout",
     "output_type": "stream",
     "text": [
      "[12.   5.5  4.7 15.5  3. ] [6.  8.3 4.5 7.3 7. ] [3 5 2 9 7] [4 2 5 3 2]\n"
     ]
    }
   ],
   "source": [
    "x1 = np.array([12, 5.5, 4.7, 15.5, 3])\n",
    "x2 = np.array([6, 8.3, 4.5, 7.3, 7])\n",
    "x3 = np.array([3, 5, 2, 9, 7])\n",
    "y = np.array([4, 2, 5, 3, 2])\n",
    "\n",
    "print(x1, x2, x3, y)"
   ]
  },
  {
   "cell_type": "code",
   "execution_count": 3,
   "metadata": {},
   "outputs": [
    {
     "data": {
      "text/plain": [
       "array([[12. ,  5.5,  4.7, 15.5,  3. ],\n",
       "       [ 6. ,  8.3,  4.5,  7.3,  7. ],\n",
       "       [ 3. ,  5. ,  2. ,  9. ,  7. ],\n",
       "       [ 1. ,  1. ,  1. ,  1. ,  1. ]])"
      ]
     },
     "execution_count": 3,
     "metadata": {},
     "output_type": "execute_result"
    }
   ],
   "source": [
    "x = np.vstack((x1, x2, x3, np.ones(5)))\n",
    "x"
   ]
  },
  {
   "cell_type": "code",
   "execution_count": 4,
   "metadata": {},
   "outputs": [],
   "source": [
    "a_d = np.array([0.1, 0.2, 0.5, 1])"
   ]
  },
  {
   "cell_type": "code",
   "execution_count": 5,
   "metadata": {},
   "outputs": [
    {
     "data": {
      "text/plain": [
       "array([4.9 , 5.71, 3.37, 8.51, 6.2 ])"
      ]
     },
     "execution_count": 5,
     "metadata": {},
     "output_type": "execute_result"
    }
   ],
   "source": [
    "y_pred = a_d @ x\n",
    "y_pred"
   ]
  },
  {
   "cell_type": "code",
   "execution_count": 6,
   "metadata": {},
   "outputs": [
    {
     "name": "stdout",
     "output_type": "stream",
     "text": [
      "121.549 98.481 96.98 12.69\n"
     ]
    }
   ],
   "source": [
    "da = round(-np.sum(x1 * (y - y_pred)), 6)\n",
    "db = round(-np.sum(x2 * (y - y_pred)), 6)\n",
    "dc = round(-np.sum(x3 * (y - y_pred)), 6)\n",
    "dd = round(-np.sum(y - y_pred), 6)\n",
    "print(da,db,dc,dd)"
   ]
  },
  {
   "cell_type": "code",
   "execution_count": 7,
   "metadata": {},
   "outputs": [
    {
     "data": {
      "text/plain": [
       "array([-12.0549,  -9.6481,  -9.198 ,  -0.269 ])"
      ]
     },
     "execution_count": 7,
     "metadata": {},
     "output_type": "execute_result"
    }
   ],
   "source": [
    "a_d_2 = a_d - 0.1 * np.array([da, db, dc, dd])\n",
    "a_d_2"
   ]
  },
  {
   "cell_type": "code",
   "execution_count": 8,
   "metadata": {},
   "outputs": [
    {
     "data": {
      "text/plain": [
       "array([-230.4104 , -192.64018, -118.73948, -340.33308, -168.3564 ])"
      ]
     },
     "execution_count": 8,
     "metadata": {},
     "output_type": "execute_result"
    }
   ],
   "source": [
    "y_pred = a_d_2 @ x\n",
    "y_pred"
   ]
  },
  {
   "cell_type": "code",
   "execution_count": 9,
   "metadata": {},
   "outputs": [
    {
     "name": "stdout",
     "output_type": "stream",
     "text": [
      "-10297.753286 -7277.629838 -6206.40358 -1066.47954\n"
     ]
    }
   ],
   "source": [
    "da = round(-np.sum(x1 * (y - y_pred)), 6)\n",
    "db = round(-np.sum(x2 * (y - y_pred)), 6)\n",
    "dc = round(-np.sum(x3 * (y - y_pred)), 6)\n",
    "dd = round(-np.sum(y - y_pred), 6)\n",
    "print(da,db,dc,dd)"
   ]
  },
  {
   "cell_type": "code",
   "execution_count": 10,
   "metadata": {},
   "outputs": [
    {
     "data": {
      "text/plain": [
       "array([1017.720429,  718.114884,  611.442358,  106.378954])"
      ]
     },
     "execution_count": 10,
     "metadata": {},
     "output_type": "execute_result"
    }
   ],
   "source": [
    "a_d_3 = a_d_2 - 0.1 * np.array([da, db, dc, dd])\n",
    "np.round(a_d_3, 6)"
   ]
  },
  {
   "cell_type": "code",
   "execution_count": 12,
   "metadata": {},
   "outputs": [
    {
     "name": "stdout",
     "output_type": "stream",
     "text": [
      "[-0.98 -0.34  0.23  0.91]\n",
      "[3.5036  6.42616 4.306   1.7252 ]\n",
      "[-20.335665 -16.398668  -5.838368  -3.346984]\n"
     ]
    }
   ],
   "source": [
    "a_d = np.array([0.1, 0.2, 0.5, 1])\n",
    "y_pred = a_d @ x\n",
    "\n",
    "for i in range(3):\n",
    "    da = -(x1 * (y - y_pred))[i]\n",
    "    db = -(x2 * (y - y_pred))[i]\n",
    "    dc = -(x3 * (y - y_pred))[i]\n",
    "    dd = -(y - y_pred)[i]\n",
    "    \n",
    "    a_d = a_d - 0.1 * np.array([da, db, dc, dd])\n",
    "    y_pred = a_d @ x\n",
    "    \n",
    "    print(np.round(a_d, 6))"
   ]
  },
  {
   "cell_type": "markdown",
   "metadata": {},
   "source": [
    "Question 6"
   ]
  },
  {
   "cell_type": "code",
   "execution_count": 5,
   "metadata": {},
   "outputs": [
    {
     "name": "stdout",
     "output_type": "stream",
     "text": [
      "[[-1 -1 -1]\n",
      " [ 2  2  2]\n",
      " [-1 -1 -1]] [[-1  2 -1]\n",
      " [-1  2 -1]\n",
      " [-1  2 -1]] [[-1 -1  2]\n",
      " [-1  2 -1]\n",
      " [ 2 -1 -1]]\n"
     ]
    }
   ],
   "source": [
    "k1 = np.array([[-1, -1, -1], [2,2,2], [-1, -1, -1]])\n",
    "k2 = np.array([[-1, 2, -1], [-1, 2, -1], [-1, 2, -1]])\n",
    "k3 = np.array([[-1, -1, 2], [-1, 2, -1], [2, -1, -1]])\n",
    "print(k1, k2, k3)"
   ]
  },
  {
   "cell_type": "code",
   "execution_count": 15,
   "metadata": {},
   "outputs": [],
   "source": [
    "i1 = np.array([[10, 10, 10 ,10 ,10], [10, 10, 10, 10, 50], [10, 10, 10, 50, 50],[10, 10, 50, 50, 50],[10, 50, 50, 50,50]])"
   ]
  },
  {
   "cell_type": "code",
   "execution_count": 16,
   "metadata": {},
   "outputs": [
    {
     "data": {
      "text/plain": [
       "array([[10, 10, 10, 10, 10],\n",
       "       [10, 10, 10, 10, 50],\n",
       "       [10, 10, 10, 50, 50],\n",
       "       [10, 10, 50, 50, 50],\n",
       "       [10, 50, 50, 50, 50]])"
      ]
     },
     "execution_count": 16,
     "metadata": {},
     "output_type": "execute_result"
    }
   ],
   "source": [
    "i1"
   ]
  },
  {
   "cell_type": "code",
   "execution_count": 17,
   "metadata": {},
   "outputs": [],
   "source": [
    "i1 = np.vstack((np.zeros(5), i1, np.zeros(5)))\n",
    "i1 = np.hstack((np.zeros((7,1)), i1, np.zeros((7,1))))"
   ]
  },
  {
   "cell_type": "code",
   "execution_count": 24,
   "metadata": {},
   "outputs": [
    {
     "data": {
      "text/plain": [
       "array([[ 0.,  0.,  0.,  0.,  0.,  0.,  0.],\n",
       "       [ 0., 10., 10., 10., 10., 10.,  0.],\n",
       "       [ 0., 10., 10., 10., 10., 50.,  0.],\n",
       "       [ 0., 10., 10., 10., 50., 50.,  0.],\n",
       "       [ 0., 10., 10., 50., 50., 50.,  0.],\n",
       "       [ 0., 10., 50., 50., 50., 50.,  0.],\n",
       "       [ 0.,  0.,  0.,  0.,  0.,  0.,  0.]])"
      ]
     },
     "execution_count": 24,
     "metadata": {},
     "output_type": "execute_result"
    }
   ],
   "source": [
    "i1 "
   ]
  },
  {
   "cell_type": "code",
   "execution_count": 29,
   "metadata": {},
   "outputs": [
    {
     "data": {
      "text/plain": [
       "array([[   0.,    0.,    0.,    0.,    0.,    0.,    0.],\n",
       "       [   0.,  -10.,    0.,    0.,  -40.,  -20.,    0.],\n",
       "       [   0.,    0.,    0.,  -40., -120.,  120.,    0.],\n",
       "       [   0.,    0.,  -40., -120.,  120.,   40.,    0.],\n",
       "       [   0.,  -40., -120.,  120.,   40.,    0.,    0.],\n",
       "       [   0.,  -20.,  120.,   40.,    0.,  -50.,    0.],\n",
       "       [   0.,    0.,    0.,    0.,    0.,    0.,    0.]])"
      ]
     },
     "execution_count": 29,
     "metadata": {},
     "output_type": "execute_result"
    }
   ],
   "source": [
    "ans = np.zeros((7,7))\n",
    "for i in range(1,6):\n",
    "    for j in range(1,6):\n",
    "#         print(k1 @ i1[i-1:i+2, j-1:j+2])\n",
    "        ans[i,j] = np.sum(k3 * i1[i-1:i+2, j-1:j+2])\n",
    "ans"
   ]
  },
  {
   "cell_type": "markdown",
   "metadata": {},
   "source": [
    "Question 5"
   ]
  },
  {
   "cell_type": "code",
   "execution_count": 2,
   "metadata": {},
   "outputs": [
    {
     "data": {
      "text/plain": [
       "array([[0.79, 0.21],\n",
       "       [0.41, 0.59]])"
      ]
     },
     "execution_count": 2,
     "metadata": {},
     "output_type": "execute_result"
    }
   ],
   "source": [
    "### F(C, TF1)\n",
    "F_CTF1 = np.array([0.55*0.2+0.85*0.8, \n",
    "                   0.45*0.2+0.15*0.8, \n",
    "                   0.25*0.2+0.45*0.8, \n",
    "                   0.75*0.2+0.55*0.8]).reshape((2,2))\n",
    "F_CTF1"
   ]
  },
  {
   "cell_type": "code",
   "execution_count": 3,
   "metadata": {},
   "outputs": [
    {
     "data": {
      "text/plain": [
       "array([[0.224, 0.276],\n",
       "       [0.281, 0.219]])"
      ]
     },
     "execution_count": 3,
     "metadata": {},
     "output_type": "execute_result"
    }
   ],
   "source": [
    "F_P1C = np.array([0.2*0.79*0.25+0.6*0.41*0.75,\n",
    "                 0.2*0.21*0.25+0.6*0.59*0.75,\n",
    "                 0.8*0.79*0.25+0.4*0.41*0.75,\n",
    "                 0.8*0.21*0.25+0.4*0.59*0.75]).reshape((2,2))\n",
    "F_P1C"
   ]
  },
  {
   "cell_type": "code",
   "execution_count": 4,
   "metadata": {},
   "outputs": [
    {
     "data": {
      "text/plain": [
       "array([[0.2468, 0.2532],\n",
       "       [0.269 , 0.306 ]])"
      ]
     },
     "execution_count": 4,
     "metadata": {},
     "output_type": "execute_result"
    }
   ],
   "source": [
    "F_EC = np.array([0.6*0.224+0.4*0.281,\n",
    "                 0.6*0.276+0.4*0.219,\n",
    "                 0.95*0.224+0.2*0.281,\n",
    "                 0.95*0.276+0.2*0.219]).reshape((2,2))\n",
    "F_EC"
   ]
  },
  {
   "cell_type": "code",
   "execution_count": 5,
   "metadata": {},
   "outputs": [
    {
     "data": {
      "text/plain": [
       "[0.2579, 0.27959999999999996]"
      ]
     },
     "execution_count": 5,
     "metadata": {},
     "output_type": "execute_result"
    }
   ],
   "source": [
    "ans = [0.2468*0.5+0.269*0.5, 0.2532*0.5+0.306*0.5]\n",
    "ans"
   ]
  },
  {
   "cell_type": "code",
   "execution_count": 6,
   "metadata": {},
   "outputs": [
    {
     "data": {
      "text/plain": [
       "array([0.479814, 0.520186])"
      ]
     },
     "execution_count": 6,
     "metadata": {},
     "output_type": "execute_result"
    }
   ],
   "source": [
    "np.round(np.array(ans)/(ans[0]+ans[1]), 6)"
   ]
  },
  {
   "cell_type": "code",
   "execution_count": null,
   "metadata": {},
   "outputs": [],
   "source": []
  }
 ],
 "metadata": {
  "kernelspec": {
   "display_name": "Python 3",
   "language": "python",
   "name": "python3"
  },
  "language_info": {
   "codemirror_mode": {
    "name": "ipython",
    "version": 3
   },
   "file_extension": ".py",
   "mimetype": "text/x-python",
   "name": "python",
   "nbconvert_exporter": "python",
   "pygments_lexer": "ipython3",
   "version": "3.7.9"
  }
 },
 "nbformat": 4,
 "nbformat_minor": 4
}
