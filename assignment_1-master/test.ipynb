{
 "cells": [
  {
   "cell_type": "code",
   "execution_count": 1,
   "id": "racial-browse",
   "metadata": {},
   "outputs": [
    {
     "name": "stdout",
     "output_type": "stream",
     "text": [
      "starting test\n",
      "rounds 100 winners defaultdict(<class 'int'>, {'mine': 57, 'theirs': 43, 'Games': 100}) 0.57\n"
     ]
    }
   ],
   "source": [
    "import multiprocessing\n",
    "lock = multiprocessing.Lock()\n",
    "import harness\n",
    "from isolation import Board\n",
    "# from player_submission_tests import RandomPlayer\n",
    "from submission import MyPlayer, ComputerPlayer\n",
    "\n",
    "def play_n_rounds(mine, theirs, size=7, time_limit=6000, print_moves=False, rounds=50):\n",
    "    \"\"\"\n",
    "        Args:\n",
    "            mine: Your bot implementation\n",
    "            theirs: The bot you are testing against\n",
    "            size: Game board size\n",
    "            time_limit: timeout threshold in milliseconds\n",
    "            print_moves: Whether or not the game should print its moves. NOTE: because this function uses\n",
    "                         multiprocessing it is recommended that you keep this argument False. Not doing so\n",
    "                         could result in your notebook hanging\n",
    "            rounds: Number of rounds your player spends as Q1 or Q2. NOTE: This is not the total number of\n",
    "                    rounds played. This will determine after how many rounds to move your player from Q1 to\n",
    "                    Q2, similar to how it is done on gradescope. So the total number of rounds played is \n",
    "                    twice this parameter\n",
    "        Returns:\n",
    "            Nothing\n",
    "    \"\"\"\n",
    "    from collections import defaultdict\n",
    "    from multiprocessing import Pool\n",
    "\n",
    "    print(\"starting test\")\n",
    "    winners = defaultdict(int)\n",
    "    winners[\"mine\"] = 0\n",
    "    winners[\"theirs\"] = 0\n",
    "    pool_Q1_mine = Pool()\n",
    "    results_Q1_mine = []\n",
    "    for idx in range(rounds):\n",
    "        results_Q1_mine.append(\n",
    "            pool_Q1_mine.apply_async(harness.play, (mine, theirs, size, time_limit, print_moves, str(idx) + \"Q1\")))\n",
    "    data_Q1_mine = [result.get() for result in results_Q1_mine]\n",
    "    for d_Q1_mine in data_Q1_mine:\n",
    "        winners['Games'] += 1\n",
    "        winners[\"mine\" if \"Q1\" in d_Q1_mine[0] else \"theirs\"] += 1\n",
    "\n",
    "    pool_Q2_mine = Pool()\n",
    "    results_Q2_mine = []\n",
    "    for idx in range(rounds):\n",
    "        results_Q2_mine.append(\n",
    "            pool_Q2_mine.apply_async(harness.play, (theirs, mine, size, time_limit, print_moves, str(idx) + \"Q2\")))\n",
    "    data_Q2_mine = [result.get() for result in results_Q2_mine]\n",
    "    for d_Q2_mine in data_Q2_mine:\n",
    "        winners['Games'] += 1\n",
    "        winners[\"mine\" if \"Q2\" in d_Q2_mine[0] else \"theirs\"] += 1\n",
    "    pool_Q1_mine.close()\n",
    "    pool_Q2_mine.close()\n",
    "    print(\"rounds {} winners {}\".format(rounds * 2, winners), winners[\"mine\"]/winners['Games'])\n",
    "\n",
    "Q1 = MyPlayer()\n",
    "Q2 = ComputerPlayer()\n",
    "play_n_rounds(Q1, Q2, print_moves=False)"
   ]
  },
  {
   "cell_type": "code",
   "execution_count": 11,
   "id": "veterinary-advertising",
   "metadata": {},
   "outputs": [
    {
     "name": "stdout",
     "output_type": "stream",
     "text": [
      "{} ['abc']\n"
     ]
    },
    {
     "data": {
      "text/plain": [
       "10"
      ]
     },
     "execution_count": 11,
     "metadata": {},
     "output_type": "execute_result"
    }
   ],
   "source": [
    "import time\n",
    "A = ['abc']\n",
    "D = {'ACME':45.23,'APPLE':666,'IBM':343,'HPQ':33,'FB':10}\n",
    "company = {value:key for key,value in D.items() if key in A}\n",
    "trans_moves = [company[i] for i in sorted(company, reverse = True)] + A\n",
    "print(company,trans_moves)\n",
    "t0 = time.time()\n",
    "# sorted(D.values())\n",
    "# comp = [sorted(D).items()]\n",
    "# print(time.time() - t0)\n",
    "# t1 = time.time()\n",
    "# sorted(D)\n",
    "# print(time.time() - t1)\n",
    "D['FB']"
   ]
  },
  {
   "cell_type": "code",
   "execution_count": 48,
   "id": "collective-hygiene",
   "metadata": {},
   "outputs": [
    {
     "name": "stdout",
     "output_type": "stream",
     "text": [
      "['ACME', 'FB'] 1612749060.858368 1612749060.858368\n"
     ]
    }
   ],
   "source": [
    "t = time.time()\n",
    "a = [company[i] for i in sorted(company, reverse = True)]\n",
    "print(a, time.time(), t)\n"
   ]
  },
  {
   "cell_type": "code",
   "execution_count": 10,
   "id": "premium-monaco",
   "metadata": {},
   "outputs": [],
   "source": [
    "if 343 in D.keys():\n",
    "    print(1)"
   ]
  },
  {
   "cell_type": "code",
   "execution_count": 56,
   "id": "boolean-cameroon",
   "metadata": {},
   "outputs": [
    {
     "name": "stdout",
     "output_type": "stream",
     "text": [
      "['b', 'c', 'd', 'a'] 0.0\n"
     ]
    }
   ],
   "source": [
    "t = time.time()\n",
    "l1 = ['b','c','d','b','c','a','a','b','c','d','b','c','a','a','b','c','d','b','c','a','a','b','c','d','b','c','a','a','b','c','d','b','c','a','a','b','c','d','b','c','a','a']\n",
    "l2 = list(set(l1))\n",
    "l2.sort(key=l1.index)\n",
    "print(l2, time.time()-t)"
   ]
  },
  {
   "cell_type": "code",
   "execution_count": 49,
   "id": "aging-falls",
   "metadata": {},
   "outputs": [
    {
     "ename": "TypeError",
     "evalue": "unsupported operand type(s) for -: 'list' and 'list'",
     "output_type": "error",
     "traceback": [
      "\u001b[1;31m---------------------------------------------------------------------------\u001b[0m",
      "\u001b[1;31mTypeError\u001b[0m                                 Traceback (most recent call last)",
      "\u001b[1;32m<ipython-input-49-49703ae82cde>\u001b[0m in \u001b[0;36m<module>\u001b[1;34m\u001b[0m\n\u001b[0;32m      1\u001b[0m \u001b[0mB\u001b[0m \u001b[1;33m=\u001b[0m \u001b[1;33m[\u001b[0m\u001b[1;34m'ACME'\u001b[0m\u001b[1;33m,\u001b[0m \u001b[1;34m'FB'\u001b[0m\u001b[1;33m,\u001b[0m \u001b[1;34m'abc'\u001b[0m\u001b[1;33m,\u001b[0m \u001b[1;34m'asdf'\u001b[0m\u001b[1;33m]\u001b[0m\u001b[1;33m\u001b[0m\u001b[1;33m\u001b[0m\u001b[0m\n\u001b[1;32m----> 2\u001b[1;33m \u001b[0mA\u001b[0m\u001b[1;33m-\u001b[0m\u001b[0mB\u001b[0m\u001b[1;33m\u001b[0m\u001b[1;33m\u001b[0m\u001b[0m\n\u001b[0m",
      "\u001b[1;31mTypeError\u001b[0m: unsupported operand type(s) for -: 'list' and 'list'"
     ]
    }
   ],
   "source": [
    "B = ['ACME', 'FB', 'abc', 'asdf']\n",
    "A-B"
   ]
  },
  {
   "cell_type": "code",
   "execution_count": 15,
   "id": "dietary-color",
   "metadata": {},
   "outputs": [
    {
     "data": {
      "text/plain": [
       "40"
      ]
     },
     "execution_count": 15,
     "metadata": {},
     "output_type": "execute_result"
    }
   ],
   "source": [
    "import timeit\n",
    "a = [[' ', ' ', '23', ' ', ' ', ' ', ' '], [' ', ' ', '22', ' ', ' ', ' ', ' '], [' ', ' ', '12', 'X', ' ', ' ', 'X'], [' ', ' ', ' ', ' ', ' ', ' ', '13'], [' ', ' ', ' ', ' ', ' ', ' ', '21'], [' ', ' ', ' ', ' ', ' ', 'X', ' '], [' ', ' ', ' ', ' ', ' ', '11', ' ']]\n",
    "# timeit.timeit('a', '[item for sublist in a for item in sublist]')\n",
    "flat_list = [item for sublist in a for item in sublist]\n",
    "flat_list.count(' ')"
   ]
  },
  {
   "cell_type": "code",
   "execution_count": null,
   "id": "economic-direction",
   "metadata": {},
   "outputs": [],
   "source": []
  }
 ],
 "metadata": {
  "kernelspec": {
   "display_name": "Python 3",
   "language": "python",
   "name": "python3"
  },
  "language_info": {
   "codemirror_mode": {
    "name": "ipython",
    "version": 3
   },
   "file_extension": ".py",
   "mimetype": "text/x-python",
   "name": "python",
   "nbconvert_exporter": "python",
   "pygments_lexer": "ipython3",
   "version": "3.7.9"
  }
 },
 "nbformat": 4,
 "nbformat_minor": 5
}
